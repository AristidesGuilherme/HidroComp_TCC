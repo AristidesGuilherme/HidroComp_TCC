{
 "cells": [
  {
   "cell_type": "markdown",
   "metadata": {},
   "source": [
    "### Análise de série de vazões (Xingó): "
   ]
  },
  {
   "cell_type": "code",
   "execution_count": 1,
   "metadata": {},
   "outputs": [],
   "source": [
    "import pandas as pd\n",
    "import numpy as np\n",
    "import plotly as py\n",
    "\n",
    "import sys\n",
    "sys.path.insert(0, r'C:\\Users\\arist\\OneDrive\\Documentos\\UFAL\\PIBIC 24-25\\lib_clebson\\HydroComp')\n",
    "\n",
    "from files.ons import Ons\n",
    "from files.ana import Ana\n",
    "from series.flow import Flow\n",
    "from series.chuva import Chuva"
   ]
  },
  {
   "cell_type": "markdown",
   "metadata": {},
   "source": [
    "### 1 - Leitura dos dados e gerando hidrogramas"
   ]
  },
  {
   "cell_type": "code",
   "execution_count": null,
   "metadata": {},
   "outputs": [
    {
     "data": {
      "text/plain": [
       "'gráficos/histo_max.html'"
      ]
     },
     "execution_count": 11,
     "metadata": {},
     "output_type": "execute_result"
    }
   ],
   "source": [
    "file = \"ONS_daily_flow.csv\"\n",
    "dados = pd.read_csv(file, index_col=0, parse_dates=True)\n",
    "\n",
    "#Convetendo obj pandas para Series Flow\n",
    "dados = Flow(pd.DataFrame(dados[\"XINGO (178)\"]))\n",
    "\n",
    "#Gerando hidrograma\n",
    "fig, data = dados.plot_hydrogram()\n",
    "py.offline.plot(fig, filename='gráficos/hidrograma.html')\n",
    "\n",
    "#Calculando picos anuais\n",
    "peaks_max = dados.maximum(station=\"XINGO (178)\")\n",
    "\n",
    "#Gerando hidrograma destanco os valores de pico\n",
    "fig, data = peaks_max.plot_hydrogram()\n",
    "py.offline.plot(fig, filename='gráficos/histo_max.html')\n"
   ]
  },
  {
   "cell_type": "markdown",
   "metadata": {},
   "source": [
    "### **2 - Distribuições de probabilidade**"
   ]
  },
  {
   "cell_type": "markdown",
   "metadata": {},
   "source": [
    "#### 2.1 - Método da máxima verossimilhança"
   ]
  },
  {
   "cell_type": "code",
   "execution_count": 24,
   "metadata": {},
   "outputs": [
    {
     "data": {
      "text/plain": [
       "(-7.198629121675559, 2920.017124192904, 2.4988189701706567)"
      ]
     },
     "execution_count": 24,
     "metadata": {},
     "output_type": "execute_result"
    }
   ],
   "source": [
    "## Máxima Verossimilhança\n",
    "peaks_max.mvs()\n",
    "peaks_max.fit"
   ]
  },
  {
   "cell_type": "code",
   "execution_count": 28,
   "metadata": {},
   "outputs": [
    {
     "data": {
      "text/plain": [
       "'gráficos/distrib_anual_mvs.html'"
      ]
     },
     "execution_count": 28,
     "metadata": {},
     "output_type": "execute_result"
    }
   ],
   "source": [
    "#Distribuição cumulativa\n",
    "estimador = 'mvs'\n",
    "title = 'Xingó Nat'\n",
    "type_function = 'cumulative'\n",
    "fig, data = peaks_max.plot_distribution(title, estimador, type_function)\n",
    "py.offline.plot(fig, filename='gráficos/distrib_anual_mvs.html')"
   ]
  },
  {
   "cell_type": "code",
   "execution_count": 13,
   "metadata": {},
   "outputs": [
    {
     "data": {
      "text/plain": [
       "'gráficos/distrib_D_anual_mvs.html'"
      ]
     },
     "execution_count": 13,
     "metadata": {},
     "output_type": "execute_result"
    }
   ],
   "source": [
    "#Distribuição PDF\n",
    "estimador = 'mvs'\n",
    "title = 'Manso Nat'\n",
    "type_function = 'density'\n",
    "fig, data = peaks_max.plot_distribution(title, estimador, type_function)\n",
    "py.offline.plot(fig, filename='gráficos/distrib_D_anual_mvs.html')"
   ]
  },
  {
   "cell_type": "code",
   "execution_count": 29,
   "metadata": {},
   "outputs": [
    {
     "data": {
      "text/plain": [
       "11159.545166357424"
      ]
     },
     "execution_count": 29,
     "metadata": {},
     "output_type": "execute_result"
    }
   ],
   "source": [
    "#Estimando magnitude de evento\n",
    "period_return = 10\n",
    "mag = peaks_max.magnitude(period_return, estimador)\n",
    "mag"
   ]
  },
  {
   "cell_type": "markdown",
   "metadata": {},
   "source": [
    "#### 2.2 - Método dos momentos L"
   ]
  },
  {
   "cell_type": "code",
   "execution_count": null,
   "metadata": {},
   "outputs": [
    {
     "data": {
      "text/plain": [
       "[-0.17538648901325302, 5988.272392336814, 1874.2360398256817]"
      ]
     },
     "execution_count": 16,
     "metadata": {},
     "output_type": "execute_result"
    }
   ],
   "source": [
    "# Momentos L (parâmetros da distribuição)\n",
    "peaks_max.mml()\n",
    "peaks_max.fit"
   ]
  },
  {
   "cell_type": "code",
   "execution_count": null,
   "metadata": {},
   "outputs": [
    {
     "data": {
      "text/plain": [
       "'gráficos/distrib_anual_mml.html'"
      ]
     },
     "execution_count": 17,
     "metadata": {},
     "output_type": "execute_result"
    }
   ],
   "source": [
    "#Distribuição cumulativa\n",
    "estimador = 'mml'\n",
    "title = 'Xingo Nat'\n",
    "type_function = 'cumulative'\n",
    "fig, data = peaks_max.plot_distribution(title, estimador, type_function)\n",
    "py.offline.plot(fig, filename='gráficos/distrib_anual_mml.html')"
   ]
  },
  {
   "cell_type": "code",
   "execution_count": null,
   "metadata": {},
   "outputs": [
    {
     "data": {
      "text/plain": [
       "'gráficos/distrib_d_anual_mml.html'"
      ]
     },
     "execution_count": 6,
     "metadata": {},
     "output_type": "execute_result"
    }
   ],
   "source": [
    "#Distribuição PDF\n",
    "estimador = 'mml'\n",
    "title = 'Xingo Nat'\n",
    "type_function = 'density'\n",
    "fig, data = peaks_max.plot_distribution(title, estimador, type_function)\n",
    "py.offline.plot(fig, filename='gráficos/distrib_d_anual_mml.html')"
   ]
  },
  {
   "cell_type": "code",
   "execution_count": null,
   "metadata": {},
   "outputs": [
    {
     "data": {
      "text/plain": [
       "12381.887509137974"
      ]
     },
     "execution_count": 18,
     "metadata": {},
     "output_type": "execute_result"
    }
   ],
   "source": [
    "#Estimando magnitude\n",
    "period_return = 15\n",
    "mag = peaks_max.magnitude(period_return, estimador)\n",
    "mag"
   ]
  },
  {
   "cell_type": "markdown",
   "metadata": {},
   "source": [
    "#### **3 - Séries de durações parciais**"
   ]
  },
  {
   "cell_type": "code",
   "execution_count": 32,
   "metadata": {},
   "outputs": [
    {
     "data": {
      "text/html": [
       "<div>\n",
       "<style scoped>\n",
       "    .dataframe tbody tr th:only-of-type {\n",
       "        vertical-align: middle;\n",
       "    }\n",
       "\n",
       "    .dataframe tbody tr th {\n",
       "        vertical-align: top;\n",
       "    }\n",
       "\n",
       "    .dataframe thead th {\n",
       "        text-align: right;\n",
       "    }\n",
       "</style>\n",
       "<table border=\"1\" class=\"dataframe\">\n",
       "  <thead>\n",
       "    <tr style=\"text-align: right;\">\n",
       "      <th></th>\n",
       "      <th>Duration</th>\n",
       "      <th>Start</th>\n",
       "      <th>End</th>\n",
       "      <th>peaks</th>\n",
       "    </tr>\n",
       "  </thead>\n",
       "  <tbody>\n",
       "    <tr>\n",
       "      <th>1931-05-06</th>\n",
       "      <td>128</td>\n",
       "      <td>1931-01-04</td>\n",
       "      <td>1931-05-12</td>\n",
       "      <td>7527.0</td>\n",
       "    </tr>\n",
       "    <tr>\n",
       "      <th>1933-02-20</th>\n",
       "      <td>30</td>\n",
       "      <td>1933-01-25</td>\n",
       "      <td>1933-02-24</td>\n",
       "      <td>6476.0</td>\n",
       "    </tr>\n",
       "    <tr>\n",
       "      <th>1934-02-07</th>\n",
       "      <td>35</td>\n",
       "      <td>1934-01-09</td>\n",
       "      <td>1934-02-13</td>\n",
       "      <td>6994.0</td>\n",
       "    </tr>\n",
       "    <tr>\n",
       "      <th>1935-02-24</th>\n",
       "      <td>98</td>\n",
       "      <td>1935-02-04</td>\n",
       "      <td>1935-05-13</td>\n",
       "      <td>7217.0</td>\n",
       "    </tr>\n",
       "    <tr>\n",
       "      <th>1937-03-11</th>\n",
       "      <td>37</td>\n",
       "      <td>1937-02-06</td>\n",
       "      <td>1937-03-15</td>\n",
       "      <td>6382.0</td>\n",
       "    </tr>\n",
       "  </tbody>\n",
       "</table>\n",
       "</div>"
      ],
      "text/plain": [
       "            Duration      Start        End   peaks\n",
       "1931-05-06       128 1931-01-04 1931-05-12  7527.0\n",
       "1933-02-20        30 1933-01-25 1933-02-24  6476.0\n",
       "1934-02-07        35 1934-01-09 1934-02-13  6994.0\n",
       "1935-02-24        98 1935-02-04 1935-05-13  7217.0\n",
       "1937-03-11        37 1937-02-06 1937-03-15  6382.0"
      ]
     },
     "execution_count": 32,
     "metadata": {},
     "output_type": "execute_result"
    }
   ],
   "source": [
    "station = \"XINGO (178)\"\n",
    "\n",
    "#'stationary' or 'events_by_year'\n",
    "type_threshold = 'stationary' \n",
    "\n",
    "#'flood' or 'drought'\n",
    "type_event = 'flood'\n",
    "\n",
    "#'media', 'mediana' or 'autocorrelation' \n",
    "type_criterion = 'median'\n",
    "\n",
    "#Peaks or percentil\n",
    "value_threshold = 0.75\n",
    "\n",
    "peaks_sdp = dados.parcial(station, type_threshold, type_event, type_criterion, value_threshold)\n",
    "peaks_sdp.peaks.head()"
   ]
  },
  {
   "cell_type": "code",
   "execution_count": 33,
   "metadata": {},
   "outputs": [
    {
     "data": {
      "text/plain": [
       "'gráficos/histo_sdp_by_year.html'"
      ]
     },
     "execution_count": 33,
     "metadata": {},
     "output_type": "execute_result"
    }
   ],
   "source": [
    "fig, data = peaks_sdp.plot_hydrogram(title='SDP-Xingo')\n",
    "py.offline.plot(fig, filename='gráficos/histo_sdp_by_year.html')"
   ]
  }
 ],
 "metadata": {
  "kernelspec": {
   "display_name": "Python 3",
   "language": "python",
   "name": "python3"
  },
  "language_info": {
   "codemirror_mode": {
    "name": "ipython",
    "version": 3
   },
   "file_extension": ".py",
   "mimetype": "text/x-python",
   "name": "python",
   "nbconvert_exporter": "python",
   "pygments_lexer": "ipython3",
   "version": "3.12.4"
  }
 },
 "nbformat": 4,
 "nbformat_minor": 2
}
